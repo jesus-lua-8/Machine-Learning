{
 "cells": [
  {
   "cell_type": "code",
   "execution_count": 5,
   "id": "molecular-parade",
   "metadata": {},
   "outputs": [
    {
     "data": {
      "text/plain": [
       "(5110, 12)"
      ]
     },
     "execution_count": 5,
     "metadata": {},
     "output_type": "execute_result"
    }
   ],
   "source": [
    "#*************************************************\n",
    "#Name: Jesus Lua                                 *\n",
    "#                                                *\n",
    "#Class 490 Machine Learning                      *\n",
    "#                                                *\n",
    "#Assignment 4\n",
    "#                                                *\n",
    "#Function: In this program, we are testing 3     *\n",
    "#methods, Trees, RandomForest, and GradientBoost.*\n",
    "#We are to apply oversampling or undersampling   *\n",
    "#on our data, and show what to do in             *\n",
    "#a scenerio where data is unbalanced             *\n",
    "#We test our scores and graphs before and after  *\n",
    "#we apply oversampling or undersampling          *\n",
    "#*************************************************\n",
    "\n",
    "import pandas as pd\n",
    "import numpy as np\n",
    "import itertools\n",
    "import matplotlib.pyplot as plt\n",
    "import matplotlib.pyplot as plot\n",
    "from sklearn.model_selection import train_test_split\n",
    "from sklearn.tree import DecisionTreeClassifier\n",
    "from sklearn.tree import export_graphviz\n",
    "from sklearn.tree import DecisionTreeClassifier\n",
    "from sklearn.preprocessing import OneHotEncoder\n",
    "from sklearn.ensemble import RandomForestClassifier\n",
    "\n",
    "data = pd.read_csv(\"healthcare-dataset-stroke-data.csv\")\n",
    "\n",
    "data.shape\n"
   ]
  },
  {
   "cell_type": "code",
   "execution_count": 3,
   "id": "looking-hormone",
   "metadata": {},
   "outputs": [
    {
     "data": {
      "text/html": [
       "<div>\n",
       "<style scoped>\n",
       "    .dataframe tbody tr th:only-of-type {\n",
       "        vertical-align: middle;\n",
       "    }\n",
       "\n",
       "    .dataframe tbody tr th {\n",
       "        vertical-align: top;\n",
       "    }\n",
       "\n",
       "    .dataframe thead th {\n",
       "        text-align: right;\n",
       "    }\n",
       "</style>\n",
       "<table border=\"1\" class=\"dataframe\">\n",
       "  <thead>\n",
       "    <tr style=\"text-align: right;\">\n",
       "      <th></th>\n",
       "      <th>id</th>\n",
       "      <th>gender</th>\n",
       "      <th>age</th>\n",
       "      <th>hypertension</th>\n",
       "      <th>heart_disease</th>\n",
       "      <th>ever_married</th>\n",
       "      <th>work_type</th>\n",
       "      <th>Residence_type</th>\n",
       "      <th>avg_glucose_level</th>\n",
       "      <th>bmi</th>\n",
       "      <th>smoking_status</th>\n",
       "      <th>stroke</th>\n",
       "    </tr>\n",
       "  </thead>\n",
       "  <tbody>\n",
       "    <tr>\n",
       "      <th>0</th>\n",
       "      <td>9046</td>\n",
       "      <td>Male</td>\n",
       "      <td>67.0</td>\n",
       "      <td>0</td>\n",
       "      <td>1</td>\n",
       "      <td>Yes</td>\n",
       "      <td>Private</td>\n",
       "      <td>Urban</td>\n",
       "      <td>228.69</td>\n",
       "      <td>36.6</td>\n",
       "      <td>formerly smoked</td>\n",
       "      <td>1</td>\n",
       "    </tr>\n",
       "    <tr>\n",
       "      <th>1</th>\n",
       "      <td>51676</td>\n",
       "      <td>Female</td>\n",
       "      <td>61.0</td>\n",
       "      <td>0</td>\n",
       "      <td>0</td>\n",
       "      <td>Yes</td>\n",
       "      <td>Self-employed</td>\n",
       "      <td>Rural</td>\n",
       "      <td>202.21</td>\n",
       "      <td>NaN</td>\n",
       "      <td>never smoked</td>\n",
       "      <td>1</td>\n",
       "    </tr>\n",
       "    <tr>\n",
       "      <th>2</th>\n",
       "      <td>31112</td>\n",
       "      <td>Male</td>\n",
       "      <td>80.0</td>\n",
       "      <td>0</td>\n",
       "      <td>1</td>\n",
       "      <td>Yes</td>\n",
       "      <td>Private</td>\n",
       "      <td>Rural</td>\n",
       "      <td>105.92</td>\n",
       "      <td>32.5</td>\n",
       "      <td>never smoked</td>\n",
       "      <td>1</td>\n",
       "    </tr>\n",
       "    <tr>\n",
       "      <th>3</th>\n",
       "      <td>60182</td>\n",
       "      <td>Female</td>\n",
       "      <td>49.0</td>\n",
       "      <td>0</td>\n",
       "      <td>0</td>\n",
       "      <td>Yes</td>\n",
       "      <td>Private</td>\n",
       "      <td>Urban</td>\n",
       "      <td>171.23</td>\n",
       "      <td>34.4</td>\n",
       "      <td>smokes</td>\n",
       "      <td>1</td>\n",
       "    </tr>\n",
       "    <tr>\n",
       "      <th>4</th>\n",
       "      <td>1665</td>\n",
       "      <td>Female</td>\n",
       "      <td>79.0</td>\n",
       "      <td>1</td>\n",
       "      <td>0</td>\n",
       "      <td>Yes</td>\n",
       "      <td>Self-employed</td>\n",
       "      <td>Rural</td>\n",
       "      <td>174.12</td>\n",
       "      <td>24.0</td>\n",
       "      <td>never smoked</td>\n",
       "      <td>1</td>\n",
       "    </tr>\n",
       "  </tbody>\n",
       "</table>\n",
       "</div>"
      ],
      "text/plain": [
       "      id  gender   age  hypertension  heart_disease ever_married  \\\n",
       "0   9046    Male  67.0             0              1          Yes   \n",
       "1  51676  Female  61.0             0              0          Yes   \n",
       "2  31112    Male  80.0             0              1          Yes   \n",
       "3  60182  Female  49.0             0              0          Yes   \n",
       "4   1665  Female  79.0             1              0          Yes   \n",
       "\n",
       "       work_type Residence_type  avg_glucose_level   bmi   smoking_status  \\\n",
       "0        Private          Urban             228.69  36.6  formerly smoked   \n",
       "1  Self-employed          Rural             202.21   NaN     never smoked   \n",
       "2        Private          Rural             105.92  32.5     never smoked   \n",
       "3        Private          Urban             171.23  34.4           smokes   \n",
       "4  Self-employed          Rural             174.12  24.0     never smoked   \n",
       "\n",
       "   stroke  \n",
       "0       1  \n",
       "1       1  \n",
       "2       1  \n",
       "3       1  \n",
       "4       1  "
      ]
     },
     "execution_count": 3,
     "metadata": {},
     "output_type": "execute_result"
    }
   ],
   "source": [
    "data.head()"
   ]
  },
  {
   "cell_type": "markdown",
   "id": "widespread-telephone",
   "metadata": {},
   "source": [
    "Q.1\n",
    "\n",
    " Train  aDecision  Tree,  Random  Forest  and  Gradient  Boosting  algorithm  to  set  a baseline performance. Use ROC AUC and Average Precision metrics for your evaluation. Also, show the precision and recall for both classes. Don’t balance the dataset."
   ]
  },
  {
   "cell_type": "code",
   "execution_count": 50,
   "id": "radio-forest",
   "metadata": {},
   "outputs": [
    {
     "name": "stdout",
     "output_type": "stream",
     "text": [
      "Accuracy on WHO data set: 0.963\n",
      "[0.57464569 0.         0.         0.30494691 0.         0.06600428\n",
      " 0.         0.         0.         0.         0.00666931 0.\n",
      " 0.         0.         0.         0.         0.         0.\n",
      " 0.         0.04773381 0.        ]\n"
     ]
    }
   ],
   "source": [
    "subsetData = data[[\"gender\",\"age\",\"hypertension\",\"heart_disease\",\"ever_married\",\n",
    "                   \"work_type\",\"Residence_type\",\"avg_glucose_level\",\"bmi\",\"smoking_status\",\"stroke\"]]\n",
    "\n",
    "#enc = OneHotEncoder().fit(subsetData)\n",
    "#newData = enc.fit_transform(subsetData)\n",
    "\n",
    "newData = pd.get_dummies(subsetData)\n",
    "\n",
    "newData = newData.dropna()\n",
    "\n",
    "TargetVar = []\n",
    "\n",
    "TargetVar.append(newData.iloc[:,5])   #This line gets the target variable \"stroke\"\n",
    "\n",
    "newData = newData.drop(columns='stroke')\n",
    "\n",
    "df = pd.DataFrame(TargetVar)\n",
    "df = df.T\n",
    "df\n",
    "\n",
    "X_train, X_test, y_train, y_test = train_test_split(newData,df, random_state=42)\n",
    "tree = DecisionTreeClassifier(max_depth=4,random_state= 10)\n",
    "tree.fit(X_train, y_train)\n",
    "\n",
    "\n",
    "print(\"Accuracy on WHO data set: {:.3f}\".format(tree.score(X_train, y_train)))\n",
    "\n",
    "print(tree.feature_importances_)\n",
    "#one thing I found was by playing around with the depth of the tree, in best case scenario\n",
    "#making a treee with depth 4 is usually a best option, but for this dataset, the deeper\n",
    "#the tree the more accuracy was gained from the decision tree."
   ]
  },
  {
   "cell_type": "code",
   "execution_count": 47,
   "id": "critical-artist",
   "metadata": {},
   "outputs": [
    {
     "data": {
      "text/html": [
       "<div>\n",
       "<style scoped>\n",
       "    .dataframe tbody tr th:only-of-type {\n",
       "        vertical-align: middle;\n",
       "    }\n",
       "\n",
       "    .dataframe tbody tr th {\n",
       "        vertical-align: top;\n",
       "    }\n",
       "\n",
       "    .dataframe thead th {\n",
       "        text-align: right;\n",
       "    }\n",
       "</style>\n",
       "<table border=\"1\" class=\"dataframe\">\n",
       "  <thead>\n",
       "    <tr style=\"text-align: right;\">\n",
       "      <th></th>\n",
       "      <th>age</th>\n",
       "      <th>hypertension</th>\n",
       "      <th>heart_disease</th>\n",
       "      <th>avg_glucose_level</th>\n",
       "      <th>bmi</th>\n",
       "      <th>gender_Female</th>\n",
       "      <th>gender_Male</th>\n",
       "      <th>gender_Other</th>\n",
       "      <th>ever_married_No</th>\n",
       "      <th>ever_married_Yes</th>\n",
       "      <th>...</th>\n",
       "      <th>work_type_Never_worked</th>\n",
       "      <th>work_type_Private</th>\n",
       "      <th>work_type_Self-employed</th>\n",
       "      <th>work_type_children</th>\n",
       "      <th>Residence_type_Rural</th>\n",
       "      <th>Residence_type_Urban</th>\n",
       "      <th>smoking_status_Unknown</th>\n",
       "      <th>smoking_status_formerly smoked</th>\n",
       "      <th>smoking_status_never smoked</th>\n",
       "      <th>smoking_status_smokes</th>\n",
       "    </tr>\n",
       "  </thead>\n",
       "  <tbody>\n",
       "    <tr>\n",
       "      <th>0</th>\n",
       "      <td>67.0</td>\n",
       "      <td>0</td>\n",
       "      <td>1</td>\n",
       "      <td>228.69</td>\n",
       "      <td>36.6</td>\n",
       "      <td>0</td>\n",
       "      <td>1</td>\n",
       "      <td>0</td>\n",
       "      <td>0</td>\n",
       "      <td>1</td>\n",
       "      <td>...</td>\n",
       "      <td>0</td>\n",
       "      <td>1</td>\n",
       "      <td>0</td>\n",
       "      <td>0</td>\n",
       "      <td>0</td>\n",
       "      <td>1</td>\n",
       "      <td>0</td>\n",
       "      <td>1</td>\n",
       "      <td>0</td>\n",
       "      <td>0</td>\n",
       "    </tr>\n",
       "    <tr>\n",
       "      <th>2</th>\n",
       "      <td>80.0</td>\n",
       "      <td>0</td>\n",
       "      <td>1</td>\n",
       "      <td>105.92</td>\n",
       "      <td>32.5</td>\n",
       "      <td>0</td>\n",
       "      <td>1</td>\n",
       "      <td>0</td>\n",
       "      <td>0</td>\n",
       "      <td>1</td>\n",
       "      <td>...</td>\n",
       "      <td>0</td>\n",
       "      <td>1</td>\n",
       "      <td>0</td>\n",
       "      <td>0</td>\n",
       "      <td>1</td>\n",
       "      <td>0</td>\n",
       "      <td>0</td>\n",
       "      <td>0</td>\n",
       "      <td>1</td>\n",
       "      <td>0</td>\n",
       "    </tr>\n",
       "    <tr>\n",
       "      <th>3</th>\n",
       "      <td>49.0</td>\n",
       "      <td>0</td>\n",
       "      <td>0</td>\n",
       "      <td>171.23</td>\n",
       "      <td>34.4</td>\n",
       "      <td>1</td>\n",
       "      <td>0</td>\n",
       "      <td>0</td>\n",
       "      <td>0</td>\n",
       "      <td>1</td>\n",
       "      <td>...</td>\n",
       "      <td>0</td>\n",
       "      <td>1</td>\n",
       "      <td>0</td>\n",
       "      <td>0</td>\n",
       "      <td>0</td>\n",
       "      <td>1</td>\n",
       "      <td>0</td>\n",
       "      <td>0</td>\n",
       "      <td>0</td>\n",
       "      <td>1</td>\n",
       "    </tr>\n",
       "    <tr>\n",
       "      <th>4</th>\n",
       "      <td>79.0</td>\n",
       "      <td>1</td>\n",
       "      <td>0</td>\n",
       "      <td>174.12</td>\n",
       "      <td>24.0</td>\n",
       "      <td>1</td>\n",
       "      <td>0</td>\n",
       "      <td>0</td>\n",
       "      <td>0</td>\n",
       "      <td>1</td>\n",
       "      <td>...</td>\n",
       "      <td>0</td>\n",
       "      <td>0</td>\n",
       "      <td>1</td>\n",
       "      <td>0</td>\n",
       "      <td>1</td>\n",
       "      <td>0</td>\n",
       "      <td>0</td>\n",
       "      <td>0</td>\n",
       "      <td>1</td>\n",
       "      <td>0</td>\n",
       "    </tr>\n",
       "    <tr>\n",
       "      <th>5</th>\n",
       "      <td>81.0</td>\n",
       "      <td>0</td>\n",
       "      <td>0</td>\n",
       "      <td>186.21</td>\n",
       "      <td>29.0</td>\n",
       "      <td>0</td>\n",
       "      <td>1</td>\n",
       "      <td>0</td>\n",
       "      <td>0</td>\n",
       "      <td>1</td>\n",
       "      <td>...</td>\n",
       "      <td>0</td>\n",
       "      <td>1</td>\n",
       "      <td>0</td>\n",
       "      <td>0</td>\n",
       "      <td>0</td>\n",
       "      <td>1</td>\n",
       "      <td>0</td>\n",
       "      <td>1</td>\n",
       "      <td>0</td>\n",
       "      <td>0</td>\n",
       "    </tr>\n",
       "  </tbody>\n",
       "</table>\n",
       "<p>5 rows × 21 columns</p>\n",
       "</div>"
      ],
      "text/plain": [
       "    age  hypertension  heart_disease  avg_glucose_level   bmi  gender_Female  \\\n",
       "0  67.0             0              1             228.69  36.6              0   \n",
       "2  80.0             0              1             105.92  32.5              0   \n",
       "3  49.0             0              0             171.23  34.4              1   \n",
       "4  79.0             1              0             174.12  24.0              1   \n",
       "5  81.0             0              0             186.21  29.0              0   \n",
       "\n",
       "   gender_Male  gender_Other  ever_married_No  ever_married_Yes  ...  \\\n",
       "0            1             0                0                 1  ...   \n",
       "2            1             0                0                 1  ...   \n",
       "3            0             0                0                 1  ...   \n",
       "4            0             0                0                 1  ...   \n",
       "5            1             0                0                 1  ...   \n",
       "\n",
       "   work_type_Never_worked  work_type_Private  work_type_Self-employed  \\\n",
       "0                       0                  1                        0   \n",
       "2                       0                  1                        0   \n",
       "3                       0                  1                        0   \n",
       "4                       0                  0                        1   \n",
       "5                       0                  1                        0   \n",
       "\n",
       "   work_type_children  Residence_type_Rural  Residence_type_Urban  \\\n",
       "0                   0                     0                     1   \n",
       "2                   0                     1                     0   \n",
       "3                   0                     0                     1   \n",
       "4                   0                     1                     0   \n",
       "5                   0                     0                     1   \n",
       "\n",
       "   smoking_status_Unknown  smoking_status_formerly smoked  \\\n",
       "0                       0                               1   \n",
       "2                       0                               0   \n",
       "3                       0                               0   \n",
       "4                       0                               0   \n",
       "5                       0                               1   \n",
       "\n",
       "   smoking_status_never smoked  smoking_status_smokes  \n",
       "0                            0                      0  \n",
       "2                            1                      0  \n",
       "3                            0                      1  \n",
       "4                            1                      0  \n",
       "5                            0                      0  \n",
       "\n",
       "[5 rows x 21 columns]"
      ]
     },
     "execution_count": 47,
     "metadata": {},
     "output_type": "execute_result"
    }
   ],
   "source": [
    "#DataSet with stroke dropped from it\n",
    "newData.head()"
   ]
  },
  {
   "cell_type": "code",
   "execution_count": 46,
   "id": "infectious-abraham",
   "metadata": {},
   "outputs": [
    {
     "data": {
      "text/html": [
       "<div>\n",
       "<style scoped>\n",
       "    .dataframe tbody tr th:only-of-type {\n",
       "        vertical-align: middle;\n",
       "    }\n",
       "\n",
       "    .dataframe tbody tr th {\n",
       "        vertical-align: top;\n",
       "    }\n",
       "\n",
       "    .dataframe thead th {\n",
       "        text-align: right;\n",
       "    }\n",
       "</style>\n",
       "<table border=\"1\" class=\"dataframe\">\n",
       "  <thead>\n",
       "    <tr style=\"text-align: right;\">\n",
       "      <th></th>\n",
       "      <th>stroke</th>\n",
       "    </tr>\n",
       "  </thead>\n",
       "  <tbody>\n",
       "    <tr>\n",
       "      <th>0</th>\n",
       "      <td>1</td>\n",
       "    </tr>\n",
       "    <tr>\n",
       "      <th>2</th>\n",
       "      <td>1</td>\n",
       "    </tr>\n",
       "    <tr>\n",
       "      <th>3</th>\n",
       "      <td>1</td>\n",
       "    </tr>\n",
       "    <tr>\n",
       "      <th>4</th>\n",
       "      <td>1</td>\n",
       "    </tr>\n",
       "    <tr>\n",
       "      <th>5</th>\n",
       "      <td>1</td>\n",
       "    </tr>\n",
       "    <tr>\n",
       "      <th>...</th>\n",
       "      <td>...</td>\n",
       "    </tr>\n",
       "    <tr>\n",
       "      <th>5104</th>\n",
       "      <td>0</td>\n",
       "    </tr>\n",
       "    <tr>\n",
       "      <th>5106</th>\n",
       "      <td>0</td>\n",
       "    </tr>\n",
       "    <tr>\n",
       "      <th>5107</th>\n",
       "      <td>0</td>\n",
       "    </tr>\n",
       "    <tr>\n",
       "      <th>5108</th>\n",
       "      <td>0</td>\n",
       "    </tr>\n",
       "    <tr>\n",
       "      <th>5109</th>\n",
       "      <td>0</td>\n",
       "    </tr>\n",
       "  </tbody>\n",
       "</table>\n",
       "<p>4909 rows × 1 columns</p>\n",
       "</div>"
      ],
      "text/plain": [
       "      stroke\n",
       "0          1\n",
       "2          1\n",
       "3          1\n",
       "4          1\n",
       "5          1\n",
       "...      ...\n",
       "5104       0\n",
       "5106       0\n",
       "5107       0\n",
       "5108       0\n",
       "5109       0\n",
       "\n",
       "[4909 rows x 1 columns]"
      ]
     },
     "execution_count": 46,
     "metadata": {},
     "output_type": "execute_result"
    }
   ],
   "source": [
    "df = pd.DataFrame(TargetVar)\n",
    "df = df.T\n",
    "df"
   ]
  },
  {
   "cell_type": "code",
   "execution_count": 51,
   "id": "sudden-breed",
   "metadata": {},
   "outputs": [
    {
     "data": {
      "image/png": "[encoded data removed]",
      "text/plain": [
       "<Figure size 432x288 with 1 Axes>"
      ]
     },
     "metadata": {
      "needs_background": "light"
     },
     "output_type": "display_data"
    }
   ],
   "source": [
    "from sklearn.tree import plot_tree\n",
    "tree_dot = plot_tree(tree,filled=True,rounded=True, feature_names= newData.columns)"
   ]
  },
  {
   "cell_type": "code",
   "execution_count": 64,
   "id": "mental-anderson",
   "metadata": {},
   "outputs": [
    {
     "name": "stdout",
     "output_type": "stream",
     "text": [
      "Accuracy on WHO data set using RandomForest: 0.993\n"
     ]
    }
   ],
   "source": [
    "rf = RandomForestClassifier(n_estimators=5,random_state=42)\n",
    "rf.fit(X_train, y_train.values.ravel())\n",
    "print(\"Accuracy on WHO data set using RandomForest: {:.3f}\".format(rf.score(X_train, y_train)))"
   ]
  },
  {
   "cell_type": "code",
   "execution_count": 70,
   "id": "graphic-giving",
   "metadata": {},
   "outputs": [
    {
     "data": {
      "text/plain": [
       "(0.5870500517871718, 0.07409742415869333)"
      ]
     },
     "execution_count": 70,
     "metadata": {},
     "output_type": "execute_result"
    }
   ],
   "source": [
    "from sklearn.model_selection import cross_validate\n",
    "scores = cross_validate(rf, X_train, y_train.values.ravel(), cv=10, scoring=('roc_auc', 'average_precision'))\n",
    "scores['test_roc_auc'].mean(), scores['test_average_precision'].mean()"
   ]
  },
  {
   "cell_type": "code",
   "execution_count": 80,
   "id": "endless-puzzle",
   "metadata": {
    "scrolled": true
   },
   "outputs": [
    {
     "data": {
      "text/plain": [
       "<matplotlib.legend.Legend at 0x1e2017cf5e0>"
      ]
     },
     "execution_count": 80,
     "metadata": {},
     "output_type": "execute_result"
    },
    {
     "data": {
      "image/png": "[encoded data removed]",
      "text/plain": [
       "<Figure size 432x288 with 1 Axes>"
      ]
     },
     "metadata": {
      "needs_background": "light"
     },
     "output_type": "display_data"
    }
   ],
   "source": [
    "from sklearn.metrics import precision_recall_curve\n",
    "\n",
    "precision_rf, recall_rf, thresholds_rf = precision_recall_curve(y_test, rf.predict_proba(X_test)[:, 1])\n",
    "#plt.plot(precision, recall, label=\"svc\")\n",
    "#plt.plot(precision[close_zero], recall[close_zero], 'o', markersize=10, label=\"threshold zero svc\", \n",
    "#         fillstyle=\"none\", c='k', mew=2)\n",
    "plt.plot(precision_rf, recall_rf, label=\"RandomForest\")\n",
    "close_default_rf = np.argmin(np.abs(thresholds_rf - 0.5))\n",
    "plt.plot(precision_rf[close_default_rf], recall_rf[close_default_rf], '^', c='k',markersize=10, \n",
    "         label=\"threshold 0.5 rf\", fillstyle=\"none\", mew=2)\n",
    "\n",
    "plt.xlabel(\"Precision\")\n",
    "plt.ylabel(\"Recall\")\n",
    "plt.legend(loc=\"best\")\n"
   ]
  },
  {
   "cell_type": "code",
   "execution_count": 81,
   "id": "linear-awareness",
   "metadata": {},
   "outputs": [
    {
     "name": "stdout",
     "output_type": "stream",
     "text": [
      "Accuracy on WHO data set using GradientBoosting: 0.975\n"
     ]
    }
   ],
   "source": [
    "\n",
    "\n",
    "from sklearn.ensemble import GradientBoostingClassifier\n",
    "gbrt = GradientBoostingClassifier(random_state=0, max_depth=4)\n",
    "gbrt.fit(X_train, y_train.values.ravel())\n",
    "print(\"Accuracy on WHO data set using GradientBoosting: {:.3f}\".format(gbrt.score(X_train, y_train)))"
   ]
  },
  {
   "cell_type": "code",
   "execution_count": 83,
   "id": "metric-samoa",
   "metadata": {},
   "outputs": [
    {
     "data": {
      "text/plain": [
       "<matplotlib.legend.Legend at 0x1e2017dac40>"
      ]
     },
     "execution_count": 83,
     "metadata": {},
     "output_type": "execute_result"
    },
    {
     "data": {
      "image/png": "[encoded data removed]",
      "text/plain": [
       "<Figure size 432x288 with 1 Axes>"
      ]
     },
     "metadata": {
      "needs_background": "light"
     },
     "output_type": "display_data"
    }
   ],
   "source": [
    "precision_rf, recall_rf, thresholds_rf = precision_recall_curve(y_test, gbrt.predict_proba(X_test)[:, 1])\n",
    "plt.plot(precision_rf, recall_rf, label=\"GradientBoosting\")\n",
    "close_default_rf = np.argmin(np.abs(thresholds_rf - 0.5))\n",
    "plt.plot(precision_rf[close_default_rf], recall_rf[close_default_rf], '^', c='k',markersize=10, \n",
    "         label=\"threshold 0.5 rf\", fillstyle=\"none\", mew=2)\n",
    "\n",
    "plt.xlabel(\"Precision\")\n",
    "plt.ylabel(\"Recall\")\n",
    "plt.legend(loc=\"best\")"
   ]
  },
  {
   "cell_type": "code",
   "execution_count": 71,
   "id": "pleased-specific",
   "metadata": {},
   "outputs": [
    {
     "data": {
      "text/plain": [
       "(0.7890400434112922, 0.13979861823489992)"
      ]
     },
     "execution_count": 71,
     "metadata": {},
     "output_type": "execute_result"
    }
   ],
   "source": [
    "scores = cross_validate(gbrt, X_train, y_train.values.ravel(), cv=10, scoring=('roc_auc', 'average_precision'))\n",
    "scores['test_roc_auc'].mean(), scores['test_average_precision'].mean()"
   ]
  },
  {
   "cell_type": "markdown",
   "id": "powerful-ground",
   "metadata": {},
   "source": [
    "Q2. \n",
    "\n",
    "Balance the dataset using any 4 methods we have discussed in the class and again train a  Decision  Tree,  Random  Forest  and  Gradient  Boosting  algorithm  to  compare  the performance with models from Q1."
   ]
  },
  {
   "cell_type": "code",
   "execution_count": 89,
   "id": "meaning-belarus",
   "metadata": {},
   "outputs": [
    {
     "name": "stdout",
     "output_type": "stream",
     "text": [
      "(3681, 21)\n",
      "(7070, 21)\n",
      "[3535 3535]\n"
     ]
    }
   ],
   "source": [
    "#Below I will be resampling the data using the RandomOverSampler Method\n",
    "from imblearn.over_sampling import RandomOverSampler\n",
    "ros = RandomOverSampler()\n",
    "X_train_oversample, y_train_oversample = ros.fit_resample(X_train, y_train.values.ravel())\n",
    "print(X_train.shape)\n",
    "print(X_train_oversample.shape)\n",
    "print(np.bincount(y_train_oversample))"
   ]
  },
  {
   "cell_type": "code",
   "execution_count": 99,
   "id": "japanese-inventory",
   "metadata": {},
   "outputs": [
    {
     "name": "stdout",
     "output_type": "stream",
     "text": [
      "Accuracy on WHO data set using GradientBoosting: 0.690\n",
      "Mean socore on Test Roc Auc: 0.982\n",
      "Mean socore on Test Average Precision: 0.974\n"
     ]
    }
   ],
   "source": [
    "GBRT = GradientBoostingClassifier(random_state=0, max_depth=4)\n",
    "GBRT.fit(X_train_oversample, y_train_oversample.ravel())\n",
    "RF = RandomForestClassifier(n_estimators=5,random_state=42)\n",
    "RF.fit(X_train_oversample, y_train_oversample.ravel())\n",
    "TREE = DecisionTreeClassifier(max_depth=4,random_state= 10)\n",
    "TREE = tree.fit(X_train_oversample, y_train_oversample)\n",
    "\n",
    "print(\"Accuracy on WHO data set using GradientBoosting: {:.3f}\".format(gbrt.score(X_train_oversample, y_train_oversample)))\n",
    "scores = cross_validate(gbrt, X_train_oversample, y_train_oversample, cv=10, scoring=('roc_auc', 'average_precision'))\n",
    "print(\"Mean socore on Test Roc Auc: {:.3f}\".format(scores['test_roc_auc'].mean()))\n",
    "print(\"Mean socore on Test Average Precision: {:.3f}\".format(scores['test_average_precision'].mean()))"
   ]
  },
  {
   "cell_type": "code",
   "execution_count": 100,
   "id": "indirect-fancy",
   "metadata": {},
   "outputs": [
    {
     "name": "stdout",
     "output_type": "stream",
     "text": [
      "Accuracy on WHO data set using RandomForest after Resampling: 0.999\n"
     ]
    },
    {
     "data": {
      "text/plain": [
       "(0.9992925849458235, 0.9985899578260522)"
      ]
     },
     "execution_count": 100,
     "metadata": {},
     "output_type": "execute_result"
    }
   ],
   "source": [
    "print(\"Accuracy on WHO data set using RandomForest after Resampling: {:.3f}\".format(RF.score(X_train_oversample, y_train_oversample)))\n",
    "scores = cross_validate(RF, X_train_oversample, y_train_oversample, cv=10, scoring=('roc_auc', 'average_precision'))\n",
    "scores['test_roc_auc'].mean(), scores['test_average_precision'].mean()"
   ]
  },
  {
   "cell_type": "code",
   "execution_count": 101,
   "id": "collect-arthritis",
   "metadata": {},
   "outputs": [
    {
     "name": "stdout",
     "output_type": "stream",
     "text": [
      "Accuracy on WHO data set for Trees method after oversampling: 0.792\n"
     ]
    }
   ],
   "source": [
    "print(\"Accuracy on WHO data set for Trees method after oversampling: {:.3f}\".format(tree.score(X_train_oversample, y_train_oversample)))"
   ]
  },
  {
   "cell_type": "code",
   "execution_count": 106,
   "id": "portuguese-accreditation",
   "metadata": {},
   "outputs": [
    {
     "data": {
      "text/plain": [
       "<matplotlib.legend.Legend at 0x1e202afcfa0>"
      ]
     },
     "execution_count": 106,
     "metadata": {},
     "output_type": "execute_result"
    },
    {
     "data": {
      "image/png": "[encoded data removed]",
      "text/plain": [
       "<Figure size 432x288 with 1 Axes>"
      ]
     },
     "metadata": {
      "needs_background": "light"
     },
     "output_type": "display_data"
    }
   ],
   "source": [
    "#Plot Graph after oversampling for all methods\n",
    "precision_RF, recall_RF, thresholds_RF = precision_recall_curve(y_test, RF.predict_proba(X_test)[:, 1])\n",
    "plt.plot(precision_RF, recall_RF, label=\"RandomForest\")\n",
    "close_default_RF = np.argmin(np.abs(thresholds_RF - 0.5))\n",
    "plt.plot(precision_RF[close_default_RF], recall_RF[close_default_RF], '^', c='k',markersize=10, \n",
    "         label=\"threshold 0.5 rf\", fillstyle=\"none\", mew=2)\n",
    "precision_GBRT, recall_GBRT, thresholds_GBRT = precision_recall_curve(y_test, GBRT.predict_proba(X_test)[:, 1])\n",
    "plt.plot(precision_GBRT, recall_GBRT, label=\"GradientBoosting\")\n",
    "close_default_GBRT = np.argmin(np.abs(thresholds_GBRT - 0.5))\n",
    "plt.plot(precision_GBRT[close_default_GBRT], recall_GBRT[close_default_GBRT], 'o', c='k',markersize=10, \n",
    "         label=\"threshold 0.5 rf\", fillstyle=\"none\", mew=2)\n",
    "\n",
    "precision_TREE, recall_TREE, thresholds_TREE = precision_recall_curve(y_test, TREE.predict_proba(X_test)[:, 1])\n",
    "plt.plot(precision_TREE, recall_TREE, label=\"Tree\")\n",
    "close_default_TREE = np.argmin(np.abs(thresholds_TREE - 0.5))\n",
    "plt.plot(precision_TREE[close_default_TREE], recall_TREE[close_default_TREE], '.', c='k',markersize=10, \n",
    "         label=\"threshold 0.5 rf\", fillstyle=\"none\", mew=2)\n",
    "\n",
    "\n",
    "plt.xlabel(\"Precision\")\n",
    "plt.ylabel(\"Recall\")\n",
    "plt.legend(loc=\"best\")"
   ]
  },
  {
   "cell_type": "markdown",
   "id": "outside-bottom",
   "metadata": {},
   "source": [
    "$Finding feature importance$\n"
   ]
  },
  {
   "cell_type": "code",
   "execution_count": 109,
   "id": "spatial-retreat",
   "metadata": {},
   "outputs": [
    {
     "name": "stdout",
     "output_type": "stream",
     "text": [
      "Feature importance of tree method\n",
      "[0.80237233 0.         0.         0.07498733 0.10143959 0.\n",
      " 0.         0.         0.         0.         0.         0.\n",
      " 0.         0.         0.         0.         0.         0.\n",
      " 0.         0.02120075 0.        ]\n"
     ]
    }
   ],
   "source": [
    "print(\"Feature importance of tree method\")\n",
    "print(TREE.feature_importances_)"
   ]
  },
  {
   "cell_type": "code",
   "execution_count": 110,
   "id": "amazing-brass",
   "metadata": {},
   "outputs": [
    {
     "name": "stdout",
     "output_type": "stream",
     "text": [
      "Feature importance of RandomForest\n",
      "[3.28579517e-01 2.84564773e-02 2.08109669e-02 1.97601597e-01\n",
      " 1.71303989e-01 1.08444458e-02 1.02128253e-02 4.54193669e-05\n",
      " 8.77279317e-02 7.04634817e-05 1.32874090e-02 0.00000000e+00\n",
      " 1.70160965e-02 1.30066015e-02 2.95565976e-03 1.37908376e-02\n",
      " 1.33730124e-02 1.85062277e-02 1.71442869e-02 2.00255244e-02\n",
      " 1.52407118e-02]\n"
     ]
    }
   ],
   "source": [
    "print(\"Feature importance of RandomForest\")\n",
    "print(RF.feature_importances_)"
   ]
  },
  {
   "cell_type": "code",
   "execution_count": 111,
   "id": "growing-blogger",
   "metadata": {},
   "outputs": [
    {
     "name": "stdout",
     "output_type": "stream",
     "text": [
      "Feature importance of GradientBoosting\n",
      "[5.56780033e-01 7.99142312e-03 5.41070012e-03 2.01505266e-01\n",
      " 1.69212382e-01 3.46364304e-03 1.93568730e-03 0.00000000e+00\n",
      " 1.61528587e-03 2.67795365e-04 8.85402627e-03 0.00000000e+00\n",
      " 3.68479318e-03 1.22473142e-02 0.00000000e+00 1.00033869e-03\n",
      " 2.42037176e-03 6.03045795e-03 3.00850677e-03 1.27060621e-02\n",
      " 1.86591319e-03]\n"
     ]
    }
   ],
   "source": [
    "print(\"Feature importance of GradientBoosting\")\n",
    "print(GBRT.feature_importances_)"
   ]
  },
  {
   "cell_type": "markdown",
   "id": "essential-brunei",
   "metadata": {},
   "source": [
    "$Report$\n",
    "\n",
    "For every method used, Trees, Random Forest, Gradient Boosting, the scores came close to to average  0.80\n",
    "\n",
    "While looking at the graph, I knew the data was unbalanced due to the majority class having the most samples. \n",
    "\n",
    "In order to fix this oversampling was used to add copies of the manority class to the training data set for a more \n",
    "\n",
    "balance results on our precision and recall graph. The scoring was based on ROC AUC and Avergae Precision and \n",
    "\n",
    "after oversampling our scoreds went up to 0.98 on average."
   ]
  },
  {
   "cell_type": "code",
   "execution_count": null,
   "id": "cultural-academy",
   "metadata": {},
   "outputs": [],
   "source": []
  }
 ],
 "metadata": {
  "kernelspec": {
   "display_name": "Python 3",
   "language": "python",
   "name": "python3"
  },
  "language_info": {
   "codemirror_mode": {
    "name": "ipython",
    "version": 3
   },
   "file_extension": ".py",
   "mimetype": "text/x-python",
   "name": "python",
   "nbconvert_exporter": "python",
   "pygments_lexer": "ipython3",
   "version": "3.8.5"
  }
 },
 "nbformat": 4,
 "nbformat_minor": 5
}
